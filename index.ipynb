{
 "cells": [
  {
   "cell_type": "code",
   "execution_count": null,
   "metadata": {},
   "outputs": [],
   "source": [
    "#hide\n",
    "from cnn_oc_svm.cnn_oc_svm import *"
   ]
  },
  {
   "cell_type": "markdown",
   "metadata": {},
   "source": [
    "# CNN OC-SVM: Using anomoly detection on input for image classifiers.\n",
    "\n",
    "> This module is designed for extending image classifiers so images that are not part of any classes can be checked against exemplars and flagged as potentially problematic before final inference. **Note that this is mostly an exploratory repository, your results in the real world might differ!**"
   ]
  },
  {
   "cell_type": "markdown",
   "metadata": {},
   "source": [
    "Check out the development branches! They will have much more interesting stuff than master for at least the next 24 hours. "
   ]
  },
  {
   "cell_type": "markdown",
   "metadata": {},
   "source": [
    "## Install"
   ]
  },
  {
   "cell_type": "markdown",
   "metadata": {},
   "source": [
    "**Currently on hold until minimum viable product is reached!**\n",
    "`pip install cnn_oc_svm`"
   ]
  },
  {
   "cell_type": "markdown",
   "metadata": {},
   "source": [
    "## How to use"
   ]
  },
  {
   "cell_type": "code",
   "execution_count": null,
   "metadata": {},
   "outputs": [
    {
     "name": "stdout",
     "output_type": "stream",
     "text": [
      "Hello world, we'll be running soon!\n"
     ]
    }
   ],
   "source": [
    "print('Hello world, we\\'ll be running soon!')"
   ]
  }
 ],
 "metadata": {
  "kernelspec": {
   "display_name": "Python 3",
   "language": "python",
   "name": "python3"
  }
 },
 "nbformat": 4,
 "nbformat_minor": 4
}

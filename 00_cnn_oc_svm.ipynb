{
 "cells": [
  {
   "cell_type": "code",
   "execution_count": null,
   "metadata": {},
   "outputs": [],
   "source": [
    "# default_exp cnn_oc_svm"
   ]
  },
  {
   "cell_type": "markdown",
   "metadata": {},
   "source": [
    "# cnn_oc_svm\n",
    "\n",
    "> Contains the base class for the CNN OC-SVM model. Override the SVM or CNN as desired but used directly is optimized for the MNIST example case."
   ]
  },
  {
   "cell_type": "code",
   "execution_count": null,
   "metadata": {},
   "outputs": [],
   "source": [
    "#hide\n",
    "from nbdev.showdoc import *"
   ]
  },
  {
   "cell_type": "code",
   "execution_count": null,
   "metadata": {},
   "outputs": [],
   "source": [
    "#export\n",
    "import numpy as np\n",
    "import torch\n",
    "import torchvision\n",
    "import matplotlib.pyplot as plt\n",
    "from torchvision import datasets, transforms\n",
    "from torch import nn, optim\n",
    "import time\n",
    "from pathlib import Path\n",
    "from typing import List\n",
    "\n",
    "class cnn_oc_svm:\n",
    "    \"\"\"\n",
    "    The base-class for building a neural network with oc-SVM.\n",
    "    \"\"\"\n",
    "    def __init__(self, neural_net, criterion, optimizer):\n",
    "        self.neural_net = neural_net\n",
    "        self.criterion = criterion\n",
    "        self.optimizer = optimizer\n",
    "        self.oc_svm = None\n",
    "    def training(self, epochs, learning_rate, training_data_loader, *args, **kwargs):\n",
    "        \"\"\"\n",
    "        Basic training function for nn.Sequence style models.\n",
    "        \"\"\"\n",
    "\n",
    "        for epoch in range(1, epochs+1):\n",
    "            running_loss = 0\n",
    "            for images, labels in training_data_loader:\n",
    "                images = images.view(images.shape[0], -1)\n",
    "\n",
    "                optimizer.zero_grad()\n",
    "\n",
    "                predicted_labels = self.neural_net(images)\n",
    "                loss = self.criterion(predicted_labels, labels)\n",
    "\n",
    "                loss.backward()\n",
    "\n",
    "                optimizer.step()\n",
    "\n",
    "                running_loss += loss.item()\n",
    "\n",
    "            else:\n",
    "                print(f\"Epoch {epoch} - Training loss: {running_loss/len(training_data_loader)}\")\n",
    "\n",
    "        print(f\"Training time (s): {time.time()-start_time}\")\n",
    "        return running_loss\n",
    "    \n",
    "    def evaluation(self, validation_data_loader):\n",
    "        \"\"\"\n",
    "        Simple evaluation function to check neural network accuracy\n",
    "        \"\"\"\n",
    "        correct_classification, total_count = 0, 0\n",
    "        for images, labels in validation_data_loader:\n",
    "            for i in range(len(labels)):\n",
    "                img = images[i].view(1, 784)\n",
    "                \n",
    "                with torch.no_grad(): # no grad because we are evaluation mode! using .eval() might work too\n",
    "                    log_probabilities = model(img)\n",
    "                probabilities = list(torch.exp(log_probabilities).numpy()[0])\n",
    "                \n",
    "                predicted_label = probabilities.index(max(probabilities))\n",
    "                true_label = labels.numpy()[i]\n",
    "                \n",
    "                if predicted_label == true_label:\n",
    "                    correct_classification += 1\n",
    "                \n",
    "                total_count += 1\n",
    "        print(f\"Images tested: {total_count} \\n Classification Accuracy: {correct_classification/total_count}\")\n",
    "        return correct_classification/total_count\n",
    "    \n",
    "    def _repr__(self):\n",
    "        return str(self.neural_net)"
   ]
  },
  {
   "cell_type": "markdown",
   "metadata": {},
   "source": [
    "### Basic neural net for mnist digits\n",
    "Let's build a quick neural net in pytorch to classify MNIST digits. I'm assuming if you're this far deep into machine learning, you likely have encountered this before. If you are unsure about the basics of Neural Networks as classifiers, you should check out an in depth tutorial for the nitty-gritty details. We're doing this in a standard but terse approach.\n",
    "\n",
    "### The general idea:\n",
    "\n",
    "In training a neural network we are transforming images into feature maps and feeding that into the final fully connected layer that corresponds to our classes. Once we have a model with the performance we like, we separate the final layer from the rest of the neural net. We then use this feature extractor on our training set to generate our training data for the one-class SVM.\n",
    "\n",
    "Why do we care? Because then we can do this on incoming data and check if the incoming image data is anomalous. Depending on your use case this can mean auto-flagging useful and novel future training data or could mean flagging potentially fraudulent or dangerous input.\n",
    "\n",
    "This will be demonstrated with an MNIST classifier with the hope to have the OC-SVM flag input images that are not numbers but random images, patterns, and possibly even letters.\n",
    "\n",
    "### Steps:\n",
    "\n",
    "1. Load up MNIST dataset and setup data pipeline\n",
    "2. Construct CNN in pytorch and train\n",
    "3. Freeze model and separate the last fully connected layer from model\n",
    "    * Ideally we can pass the vector straight to the last layer\n",
    "4. Use the feature extractor to generate data for our OC-SVM model\n",
    "\n",
    "Once that is complete we'll have the first component of our lovely model.\n",
    "\n"
   ]
  },
  {
   "cell_type": "markdown",
   "metadata": {},
   "source": [
    "### Step 1: Creating the data pipeline"
   ]
  },
  {
   "cell_type": "code",
   "execution_count": null,
   "metadata": {},
   "outputs": [],
   "source": [
    "# Loading up our transformers so images get preprocessed\n",
    "# TODO Add robust preprocessing so it'll work out of the box for more realistic problems\n",
    "image_preprocessing_pipeline = transforms.Compose([\n",
    "                               transforms.ToTensor(), #Convert image to tensor\n",
    "                               transforms.Normalize((0.5,), (0.5,)), # Normalize RGB values from 0-255 to 0-1\n",
    "                               ])\n",
    "\n",
    "# Building dataset\n",
    "training_data = datasets.MNIST('.', train=True, transform=image_preprocessing_pipeline, download=True)\n",
    "\n",
    "validation_data = datasets.MNIST('.', train=False, transform=image_preprocessing_pipeline, download=True)\n",
    "\n",
    "# Setting up data loaders.\n",
    "training_data_loader = torch.utils.data.DataLoader(training_data, batch_size=64, shuffle=True)\n",
    "\n",
    "validation_data_loader = torch.utils.data.DataLoader(validation_data, batch_size=64, shuffle=True)\n"
   ]
  },
  {
   "cell_type": "markdown",
   "metadata": {},
   "source": [
    "### Step 2: Build the Neural Network classifier\n",
    "\n",
    "We build a simple fully connected neural network. Our input layer takes in our 28x28 image and flattens it out. We pass it through an activation function (ReLU) and through a hidden layer before outputting to a final fully connected layer and a softmax activation layer so our image turns into a feature vector and finally class probabilities."
   ]
  },
  {
   "cell_type": "code",
   "execution_count": null,
   "metadata": {},
   "outputs": [],
   "source": [
    "#export\n",
    "def create_basic_neural_net_structure(input_size=28*28, hidden_sizes=[128, 64], number_of_classes=10):\n",
    "    \"\"\"\n",
    "    Creates basic neural network with an input layer, feature extraction layer, and output layer.\n",
    "    Basic structure:\n",
    "        Input: linear layer of image resolution (color * width * height) and ReLU activation\n",
    "        Hidden: linear layer of hidden sizes and RelU activation\n",
    "        Output: liear layer and LogSoftmax activation to final size of number_of_classes\n",
    "    parameters:\n",
    "        input_size: number of neurons in input layer\n",
    "        hidden_sizes: in_feature and out_feature sizes as ints. \n",
    "    returns: Sequential neural net for training and inference.\n",
    "    \"\"\"\n",
    "    if not isinstance(input_size, int):\n",
    "        raise TypeError(f\"Input size must be an integer, received type {type(input_size)}\")\n",
    "    if input_size <= 0:\n",
    "        raise ValueError(f\"Input must be greater than 0 and an integer, received {input_size}\")\n",
    "        \n",
    "    input_layer_dimensions = (input_size, hidden_sizes[0]) if len(hidden_sizes) != 0 else (input_size, number_of_classes)\n",
    "    input_layers = [nn.Linear(*input_layer_dimensions), nn.ReLU()]\n",
    "    \n",
    "    if len(hidden_sizes) == 0:\n",
    "        hidden_layers = list()\n",
    "    else:\n",
    "        hidden_layers = [layer for dims in zip(hidden_sizes[:-1], hidden_sizes[1:]) for layer in (nn.Linear(*dims), nn.ReLU())]\n",
    "    \n",
    "    final_output_layer_dimensions = (hidden_sizes[-1], number_of_classes) if len(hidden_sizes) != 0 else (input_size, number_of_classes)\n",
    "    \n",
    "    final_output_layer = [nn.Linear(*final_output_layer_dimensions), nn.LogSoftmax()]\n",
    "    \n",
    "    model_structure_list = list()\n",
    "    for structure in [input_layers, hidden_layers, final_output_layer]:\n",
    "        model_structure_list.extend(structure)\n",
    "    \n",
    "    model = nn.Sequential(*model_structure_list)\n",
    "    \n",
    "    return model"
   ]
  },
  {
   "cell_type": "markdown",
   "metadata": {},
   "source": [
    "Let's do some basic tests on our helper function to generate a fully connected neural network for classification."
   ]
  },
  {
   "cell_type": "code",
   "execution_count": null,
   "metadata": {},
   "outputs": [],
   "source": [
    "test_input_size = 28*28\n",
    "test_hidden_sizes = [128, 64]\n",
    "test_number_of_classes = 10\n",
    "\n",
    "base_mnist_model_structure = nn.Sequential(\n",
    "    nn.Linear(28*28, 128),\n",
    "    nn.ReLU(),\n",
    "    nn.Linear(128, 64),\n",
    "    nn.ReLU(),\n",
    "    nn.Linear(64, 10),\n",
    "    nn.LogSoftmax()\n",
    ")\n",
    "\n",
    "### Testing of improper input_size parameters\n",
    "for improper_input_size in [0, -10, -1000, None, 293.4, \"foobar\"]:\n",
    "\n",
    "    try:\n",
    "        create_basic_neural_net_structure(input_size=improper_input_size)\n",
    "        \n",
    "    except ValueError as good_error:\n",
    "        assert str(ValueError(f\"Input must be greater than 0 and an integer, received {improper_input_size}\")) == str(good_error)\n",
    "        \n",
    "    except TypeError as good_error:\n",
    "        assert str(good_error) == str(TypeError(f\"Input size must be an integer, received type {type(improper_input_size)}\"))\n",
    "\n",
    "# This is for testing that valid input sizes (cooresponding to 28x28, 50x50, and 300x300 grayscale image resolutions) create networks as expected        \n",
    "for test_input_size in [28**2, 50**2, 300**2]:\n",
    "    test_mnist_model = create_basic_neural_net_structure(test_input_size, test_hidden_sizes, test_number_of_classes)\n",
    "\n",
    "    base_mnist_model_structure = nn.Sequential(\n",
    "        nn.Linear(test_input_size, 128),\n",
    "        nn.ReLU(),\n",
    "        nn.Linear(128, 64),\n",
    "        nn.ReLU(),\n",
    "        nn.Linear(64, 10),\n",
    "        nn.LogSoftmax()\n",
    "    )\n",
    "    \n",
    "    # This asserts that the models contain the same number of layers\n",
    "    assert len(test_mnist_model) == len(base_mnist_model_structure)\n",
    "\n",
    "    for idx, layers in enumerate(zip(base_mnist_model_structure, test_mnist_model)):\n",
    "        if idx % 2 != 0:\n",
    "            # We skip every 2nd layer as they're the ReLU activation layers.\n",
    "            continue\n",
    "        else:\n",
    "            # Confirming our layers both match in their dimensions\n",
    "            their_layer, our_layer = layers\n",
    "            assert their_layer.in_features == our_layer.in_features\n",
    "            assert their_layer.out_features == our_layer.out_features\n",
    "    "
   ]
  },
  {
   "cell_type": "markdown",
   "metadata": {},
   "source": [
    "### Quick detour for looking at our data\n",
    "\n",
    "Let's take a quick look at the shape, label, and how we transform the data before feeding it to our neural network."
   ]
  },
  {
   "cell_type": "code",
   "execution_count": null,
   "metadata": {},
   "outputs": [
    {
     "name": "stdout",
     "output_type": "stream",
     "text": [
      "Note the shape of a single image: \n",
      " torch.Size([1, 28, 28])\n",
      "Post numpy and squeeze gives us a 28x28 matrix representation of our image with shape: \n",
      "    (28, 28)\n",
      "this example image is a 9\n"
     ]
    },
    {
     "data": {
      "image/png": "[encoded data removed]",
      "text/plain": [
       "<Figure size 432x288 with 1 Axes>"
      ]
     },
     "metadata": {
      "needs_background": "light"
     },
     "output_type": "display_data"
    }
   ],
   "source": [
    "images, labels = next(iter(training_data_loader))\n",
    "print(f\"Note the shape of a single image: \\n {images[0].shape}\")\n",
    "example_image = images[0].numpy().squeeze()\n",
    "print(f\"Post numpy and squeeze gives us a 28x28 matrix representation of our image with shape: \\n    {example_image.shape}\")\n",
    "plt.imshow(example_image, cmap='gray_r')\n",
    "print(f\"this example image is a {labels[0].item()}\")"
   ]
  },
  {
   "cell_type": "code",
   "execution_count": null,
   "metadata": {},
   "outputs": [
    {
     "name": "stdout",
     "output_type": "stream",
     "text": [
      "Epoch 1 - Training loss: 0.6250352118569397\n",
      "Training time (s): 11.143050193786621\n"
     ]
    },
    {
     "data": {
      "text/plain": [
       "586.2830287218094"
      ]
     },
     "execution_count": null,
     "metadata": {},
     "output_type": "execute_result"
    }
   ],
   "source": [
    "model = create_basic_neural_net_structure()\n",
    "criterion = nn.NLLLoss() #Negative log-likelihood loss which is used because we're doing classification\n",
    "\n",
    "\n",
    "optimizer = optim.SGD(model.parameters(), lr=0.003, momentum=0.9)\n",
    "start_time = time.time()\n",
    "\n",
    "our_latest_and_greatest = cnn_oc_svm(model, criterion, optimizer)\n",
    "our_latest_and_greatest.training(epochs=1, learning_rate=0.003, training_data_loader=training_data_loader)"
   ]
  },
  {
   "cell_type": "code",
   "execution_count": null,
   "metadata": {},
   "outputs": [
    {
     "name": "stdout",
     "output_type": "stream",
     "text": [
      "Images tested: 10000 \n",
      " Classification Accuracy: 0.9123\n"
     ]
    },
    {
     "data": {
      "text/plain": [
       "1.0961306587745259"
      ]
     },
     "execution_count": null,
     "metadata": {},
     "output_type": "execute_result"
    }
   ],
   "source": [
    "our_latest_and_greatest.evaluation(validation_data_loader)"
   ]
  },
  {
   "cell_type": "code",
   "execution_count": null,
   "metadata": {},
   "outputs": [
    {
     "name": "stdout",
     "output_type": "stream",
     "text": [
      "Images tested: 10000 \n",
      " Classification Accuracy: 0.9463\n"
     ]
    }
   ],
   "source": [
    "correct_classification, total_images = 0, 0\n",
    "\n",
    "for images, labels in validation_data_loader:\n",
    "    for i in range(len(labels)):\n",
    "        img = images[i].view(1, 784)\n",
    "        with torch.no_grad():\n",
    "            logps = model(img)\n",
    "        \n",
    "        ps = torch.exp(logps)\n",
    "        probab = list(ps.numpy()[0])\n",
    "        \n",
    "        pred_label = probab.index(max(probab))\n",
    "        true_label = labels.numpy()[i]\n",
    "        \n",
    "        if pred_label == true_label:\n",
    "            correct_classification += 1\n",
    "        total_images += 1\n",
    "        \n",
    "print(f\"Images tested: {total_images} \\n Classification Accuracy: {correct_classification/total_images}\")\n",
    "        "
   ]
  }
 ],
 "metadata": {
  "kernelspec": {
   "display_name": "Python 3",
   "language": "python",
   "name": "python3"
  }
 },
 "nbformat": 4,
 "nbformat_minor": 4
}
